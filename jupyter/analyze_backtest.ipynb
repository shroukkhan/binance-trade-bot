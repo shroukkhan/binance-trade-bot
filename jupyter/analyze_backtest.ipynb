{
 "cells": [
  {
   "cell_type": "code",
   "execution_count": 9,
   "outputs": [
    {
     "name": "stdout",
     "output_type": "stream",
     "text": [
      "The autoreload extension is already loaded. To reload it, use:\n",
      "  %reload_ext autoreload\n"
     ]
    }
   ],
   "source": [
    "%load_ext autoreload\n",
    "%autoreload 2"
   ],
   "metadata": {
    "collapsed": false,
    "pycharm": {
     "name": "#%%\n"
    }
   }
  },
  {
   "cell_type": "markdown",
   "source": [
    "# Parse backtest result"
   ],
   "metadata": {
    "collapsed": false
   }
  },
  {
   "cell_type": "code",
   "execution_count": 10,
   "metadata": {
    "collapsed": true
   },
   "outputs": [],
   "source": [
    "import json\n",
    "\n",
    "file_name = '../backtest_results/backtest-20220416-041017.json'\n",
    "\n",
    "with open(file_name) as f:\n",
    "    json_file = json.load(f)"
   ]
  },
  {
   "cell_type": "code",
   "execution_count": 11,
   "outputs": [
    {
     "data": {
      "text/plain": "{'date': '2021-08-07 17:00:00',\n 'ATOM': 0.18,\n 'MATIC': 0.0,\n 'ETH': 0.0171,\n 'BTC': 0.00143,\n 'BNB': 0.09727621,\n 'LINK': 0.0,\n 'DOT': 1.69,\n 'XRP': 0.0,\n 'LTC': 0.0,\n 'UNI': 0.0,\n 'AVAX': 0.16,\n 'ADA': 0.0,\n 'SOL': 0.71,\n 'LUNA': 0.57,\n 'DOGE': 0.0}"
     },
     "execution_count": 11,
     "metadata": {},
     "output_type": "execute_result"
    }
   ],
   "source": [
    "start_balance = json_file['balance'][0]\n",
    "start_balance"
   ],
   "metadata": {
    "collapsed": false,
    "pycharm": {
     "name": "#%%\n"
    }
   }
  },
  {
   "cell_type": "code",
   "execution_count": 12,
   "outputs": [
    {
     "data": {
      "text/plain": "{'date': '2022-04-14 17:00:00',\n 'ATOM': 0.18,\n 'MATIC': 1.8778999999999986,\n 'ETH': 0.0136961,\n 'BTC': 0.00143,\n 'BNB': 0.09727621,\n 'LINK': 0.07952999999999993,\n 'DOT': 1.06956,\n 'XRP': 0.0,\n 'LTC': 0.0,\n 'UNI': 1.0474899999999998,\n 'AVAX': 0.16,\n 'ADA': 0.0,\n 'SOL': 0.47,\n 'LUNA': 0.82798,\n 'DOGE': 14.906999999999996,\n 'USDT': 0.09820596000000492}"
     },
     "execution_count": 12,
     "metadata": {},
     "output_type": "execute_result"
    }
   ],
   "source": [
    "final_balance = json_file['balance'][-1]\n",
    "final_balance"
   ],
   "metadata": {
    "collapsed": false,
    "pycharm": {
     "name": "#%%\n"
    }
   }
  },
  {
   "cell_type": "code",
   "execution_count": 13,
   "outputs": [
    {
     "name": "stdout",
     "output_type": "stream",
     "text": [
      "+-------+---------------------+---------------------+--------+\n",
      "| Coin  | From                | To                  | Growth |\n",
      "+-------+---------------------+---------------------+--------+\n",
      "| date  | 2021-08-07 17:00:00 | 2022-04-14 17:00:00 |        |\n",
      "| ATOM  | 0.18                | 0.18                | 0.0    |\n",
      "| MATIC | 0.0                 | 1.8778999999999986  | inf    |\n",
      "| ETH   | 0.0171              | 0.0136961           | -19.91 |\n",
      "| BTC   | 0.00143             | 0.00143             | 0.0    |\n",
      "| BNB   | 0.09727621          | 0.09727621          | 0.0    |\n",
      "| LINK  | 0.0                 | 0.07952999999999993 | inf    |\n",
      "| DOT   | 1.69                | 1.06956             | -36.71 |\n",
      "| XRP   | 0.0                 | 0.0                 | inf    |\n",
      "| LTC   | 0.0                 | 0.0                 | inf    |\n",
      "| UNI   | 0.0                 | 1.0474899999999998  | inf    |\n",
      "| AVAX  | 0.16                | 0.16                | 0.0    |\n",
      "| ADA   | 0.0                 | 0.0                 | inf    |\n",
      "| SOL   | 0.71                | 0.47                | -33.8  |\n",
      "| LUNA  | 0.57                | 0.82798             | 45.26  |\n",
      "| DOGE  | 0.0                 | 14.906999999999996  | inf    |\n",
      "| USDT  | 0.0                 | 0.09820596000000492 | inf    |\n",
      "+-------+---------------------+---------------------+--------+\n"
     ]
    }
   ],
   "source": [
    "from prettytable import *\n",
    "msg = PrettyTable()\n",
    "msg.field_names = [\"Coin\", \"From\", \"To\", \"Growth\"]\n",
    "\n",
    "\n",
    "for key in final_balance:\n",
    "    end = final_balance[key]\n",
    "    start = start_balance[key] if key in start_balance else '0.0'\n",
    "    growth = ''\n",
    "    if key != 'date':\n",
    "        s = float(start)\n",
    "        e = float(end)\n",
    "        if s > 0:\n",
    "            growth = round(((e - s)/s)*100,2)\n",
    "        else:\n",
    "            growth = 'inf'\n",
    "    msg.add_row([\n",
    "        key,\n",
    "        start,\n",
    "        end,\n",
    "        growth\n",
    "    ])\n",
    "\n",
    "msg.align = \"l\"\n",
    "print(msg)"
   ],
   "metadata": {
    "collapsed": false,
    "pycharm": {
     "name": "#%%\n"
    }
   }
  },
  {
   "cell_type": "code",
   "execution_count": 14,
   "outputs": [
    {
     "name": "stdout",
     "output_type": "stream",
     "text": [
      "224.84632572639998 USDT -> 315.119826859 USDT\n",
      "+-------+---------------+---------------------+-------------+-------------+--------------------+--------------------+\n",
      "| coin  | start_balance | final_balance       | start_price | final_price | start_value        | final_value        |\n",
      "+-------+---------------+---------------------+-------------+-------------+--------------------+--------------------+\n",
      "| ATOM  | 0.18          | 0.18                | 13.835      | 24.89       | 2.4903             | 4.4802             |\n",
      "| MATIC | 0.0           | 1.8778999999999986  | 1.15529     | 1.414       | 0.0                | 2.655350599999998  |\n",
      "| ETH   | 0.0171        | 0.0136961           | 3090.24     | 3086.5      | 52.843104          | 42.27301265        |\n",
      "| BTC   | 0.00143       | 0.00143             | 43705.0     | 41005.59    | 62.49815           | 58.637993699999996 |\n",
      "| BNB   | 0.09727621    | 0.09727621          | 351.84      | 416.9       | 34.2256617264      | 40.554451949       |\n",
      "| LINK  | 0.0           | 0.07952999999999993 | 24.344      | 14.06       | 0.0                | 1.118191799999999  |\n",
      "| DOT   | 1.69          | 1.06956             | 20.69       | 18.1        | 34.966100000000004 | 19.359036000000003 |\n",
      "| XRP   | 0.0           | 0.0                 | 0.8027      | 0.718       | 0.0                | 0.0                |\n",
      "| LTC   | 0.0           | 0.0                 | 154.66      | 109.6       | 0.0                | 0.0                |\n",
      "| UNI   | 0.0           | 1.0474899999999998  | 28.147      | 9.6         | 0.0                | 10.055903999999998 |\n",
      "| AVAX  | 0.16          | 0.16                | 15.012      | 79.59       | 2.40192            | 12.7344            |\n",
      "| ADA   | 0.0           | 0.0                 | 1.4511      | 0.961       | 0.0                | 0.0                |\n",
      "| SOL   | 0.71          | 0.47                | 38.358      | 104.6       | 27.234179999999995 | 49.16199999999999  |\n",
      "| LUNA  | 0.57          | 0.82798             | 14.363      | 86.85       | 8.18691            | 71.910063          |\n",
      "| DOGE  | 0.0           | 14.906999999999996  | 0.24042     | 0.1396      | 0.0                | 2.0810171999999993 |\n",
      "+-------+---------------+---------------------+-------------+-------------+--------------------+--------------------+\n"
     ]
    }
   ],
   "source": [
    "from sqlitedict import SqliteDict\n",
    "from dateutil import parser\n",
    "from datetime import timedelta\n",
    "\n",
    "sqlite_cache = SqliteDict(\"../data/backtest_cache.db\")\n",
    "\n",
    "values = {}\n",
    "start_date = parser.parse(start_balance['date'])\n",
    "starting_value_in_usdt = 0\n",
    "for k in start_balance:\n",
    "    if k != 'date':\n",
    "        v = float(start_balance[k])\n",
    "        if k == 'USDT':\n",
    "            starting_value_in_usdt += v\n",
    "        else:\n",
    "            target_date = start_date.strftime(\"%d %b %Y %H:%M:%S\")\n",
    "            key = f\"{k}USDT - {target_date}\"\n",
    "            usdt_val = sqlite_cache.get(key, None)\n",
    "            starting_value_in_usdt += usdt_val * v\n",
    "            values[k] = {\n",
    "                'start': v,\n",
    "                'start_price': usdt_val,\n",
    "                'start_value': usdt_val * v\n",
    "            }\n",
    "\n",
    "final_date = parser.parse(final_balance['date'])\n",
    "final_date = final_date - timedelta(days=1)\n",
    "finaling_value_in_usdt = 0\n",
    "for k in final_balance:\n",
    "    if k != 'date':\n",
    "        v = float(final_balance[k])\n",
    "        if k == 'USDT':\n",
    "            finaling_value_in_usdt += v\n",
    "        else:\n",
    "            target_date = final_date.strftime(\"%d %b %Y %H:%M:%S\")\n",
    "            key = f\"{k}USDT - {target_date}\"\n",
    "            usdt_val = sqlite_cache.get(key, None)\n",
    "            #print(f'{key} :\\tusdt_val * v = {usdt_val * v}')\n",
    "            finaling_value_in_usdt += usdt_val * v\n",
    "            values[k] = {\n",
    "                **values[k],\n",
    "                **{\n",
    "                    'final': v,\n",
    "                    'final_price': usdt_val,\n",
    "                    'final_value': usdt_val * v\n",
    "                }\n",
    "            }\n",
    "print(f'{starting_value_in_usdt} USDT -> {finaling_value_in_usdt} USDT')\n",
    "\n",
    "msg = PrettyTable()\n",
    "msg.field_names = ['coin', 'start_balance', 'final_balance', 'start_price', 'final_price', 'start_value', 'final_value']\n",
    "for k in values:\n",
    "    row = values[k]\n",
    "    msg.add_row(\n",
    "        [\n",
    "            k,\n",
    "            row['start'],\n",
    "            row['final'],\n",
    "\n",
    "            row['start_price'],\n",
    "            row['final_price'],\n",
    "\n",
    "            row['start_value'],\n",
    "            row['final_value'],\n",
    "\n",
    "\n",
    "        ]\n",
    "    )\n",
    "msg.align = \"l\"\n",
    "print(msg)\n"
   ],
   "metadata": {
    "collapsed": false,
    "pycharm": {
     "name": "#%%\n"
    }
   }
  },
  {
   "cell_type": "markdown",
   "source": [
    "No coin gain\n",
    "224.84632572639998 USDT -> 178.37692496499997 USDT\n",
    "+-------+---------------+-----------------------+-------------+-------------+--------------------+----------------------+\n",
    "| coin  | start_balance | final_balance         | start_price | final_price | start_value        | final_value          |\n",
    "+-------+---------------+-----------------------+-------------+-------------+--------------------+----------------------+\n",
    "| ATOM  | 0.18          | 0.18                  | 13.835      | 24.89       | 2.4903             | 4.4802               |\n",
    "| MATIC | 0.0           | 0.07239999999998759   | 1.15529     | 1.414       | 0.0                | 0.10237359999998244  |\n",
    "| ETH   | 0.0171        | 7.530000000000037e-05 | 3090.24     | 3086.5      | 52.843104          | 0.23241345000000113  |\n",
    "| BTC   | 0.00143       | 0.00143               | 43705.0     | 41005.59    | 62.49815           | 58.637993699999996   |\n",
    "| BNB   | 0.09727621    | 0.09727621            | 351.84      | 416.9       | 34.2256617264      | 40.554451949         |\n",
    "| LINK  | 0.0           | 0.007039999999999935  | 24.344      | 14.06       | 0.0                | 0.0989823999999991   |\n",
    "| DOT   | 1.69          | 0.008680000000000021  | 20.69       | 18.1        | 34.966100000000004 | 0.1571080000000004   |\n",
    "| XRP   | 0.0           | 0.0                   | 0.8027      | 0.718       | 0.0                | 0.0                  |\n",
    "| LTC   | 0.0           | 0.0                   | 154.66      | 109.6       | 0.0                | 0.0                  |\n",
    "| UNI   | 0.0           | 6.366709999999999     | 28.147      | 9.6         | 0.0                | 61.12041599999999    |\n",
    "| AVAX  | 0.16          | 0.16                  | 15.012      | 79.59       | 2.40192            | 12.7344              |\n",
    "| ADA   | 0.0           | 0.0                   | 1.4511      | 0.961       | 0.0                | 0.0                  |\n",
    "| SOL   | 0.71          | 0.0                   | 38.358      | 104.6       | 27.234179999999995 | 0.0                  |\n",
    "| LUNA  | 0.57          | 0.0004499999999998394 | 14.363      | 86.85       | 8.18691            | 0.03908249999998605  |\n",
    "| DOGE  | 0.0           | 0.44399999999996      | 0.24042     | 0.1396      | 0.0                | 0.061982399999994414 |\n",
    "+-------+---------------+-----------------------+-------------+-------------+--------------------+----------------------+"
   ],
   "metadata": {
    "collapsed": false,
    "pycharm": {
     "name": "#%% md\n"
    }
   }
  }
 ],
 "metadata": {
  "kernelspec": {
   "name": "binance-trade-bot",
   "language": "python",
   "display_name": "PyCharm (binance-trade-bot)"
  },
  "language_info": {
   "codemirror_mode": {
    "name": "ipython",
    "version": 2
   },
   "file_extension": ".py",
   "mimetype": "text/x-python",
   "name": "python",
   "nbconvert_exporter": "python",
   "pygments_lexer": "ipython2",
   "version": "2.7.6"
  }
 },
 "nbformat": 4,
 "nbformat_minor": 0
}